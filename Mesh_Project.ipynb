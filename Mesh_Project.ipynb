{
 "cells": [
  {
   "cell_type": "code",
   "execution_count": 20,
   "metadata": {},
   "outputs": [],
   "source": [
    "#Libraries\n",
    "import numpy as np\n",
    "import matplotlib.pyplot as plt\n",
    "import math\n",
    "from scipy.spatial import Delaunay\n",
    "#Alba"
   ]
  },
  {
   "cell_type": "code",
   "execution_count": 49,
   "metadata": {},
   "outputs": [],
   "source": [
    "#1. Criar variáveis com medidas do retângulo para a malha.\n",
    "#L=100mm; h=50mm\n",
    "\n",
    "L=0.1 #Eixo x.\n",
    "h=0.05 #Eixo y.\n",
    "nb_element=3 #Entre os pontos mínimo/ máximo, gera 10 intervalos de nodes."
   ]
  },
  {
   "cell_type": "code",
   "execution_count": 50,
   "metadata": {},
   "outputs": [
    {
     "data": {
      "text/plain": [
       "[[0.0, 0.0],\n",
       " [0.0, 0.025],\n",
       " [0.0, 0.05],\n",
       " [0.05, 0.0],\n",
       " [0.05, 0.025],\n",
       " [0.05, 0.05],\n",
       " [0.1, 0.0],\n",
       " [0.1, 0.025],\n",
       " [0.1, 0.05]]"
      ]
     },
     "execution_count": 50,
     "metadata": {},
     "output_type": "execute_result"
    }
   ],
   "source": [
    "#2. Criar Nodes.\n",
    "\n",
    "#Nodes=np.array([[0,0],[0,1],[1,0],[1,1]])\n",
    "\n",
    "Nodes=[]\n",
    "\n",
    "for x in np.linspace(0,L,num=nb_element):\n",
    "    for y in np.linspace(0,h,num=nb_element):\n",
    "        Nodes.append([x,y])\n",
    "        \n",
    "Nodes"
   ]
  },
  {
   "cell_type": "code",
   "execution_count": 51,
   "metadata": {},
   "outputs": [
    {
     "data": {
      "image/png": "[encoded data removed]",
      "text/plain": [
       "<Figure size 432x288 with 1 Axes>"
      ]
     },
     "metadata": {
      "needs_background": "light"
     },
     "output_type": "display_data"
    }
   ],
   "source": [
    "#3. Visualizar Nodes.\n",
    "points=np.array(Nodes)\n",
    "\n",
    "plt.plot(points[:,0],points[:,1],'o',color=\"Black\")\n",
    "plt.ylabel('h')\n",
    "plt.xlabel('L')\n",
    "plt.show()"
   ]
  },
  {
   "cell_type": "code",
   "execution_count": 52,
   "metadata": {},
   "outputs": [
    {
     "data": {
      "image/png": "[encoded data removed]",
      "text/plain": [
       "<Figure size 432x288 with 1 Axes>"
      ]
     },
     "metadata": {
      "needs_background": "light"
     },
     "output_type": "display_data"
    }
   ],
   "source": [
    "#3. Criar elementos da malha através da Triangulação de Delaunay.\n",
    "tri=Delaunay(points) #Pontos de união dos triângulos.\n",
    "\n",
    "plt.triplot(points[:,0],points[:,1],tri.simplices,color=\"Black\") #tri.simplices contém uma matriz com os índices dos pontos de união dos triângulos.\n",
    "plt.plot(points[:,0],points[:,1],'o',color=\"Black\")\n",
    "plt.show()\n",
    "\n",
    "mesh=tri.simplices #Elementos."
   ]
  },
  {
   "cell_type": "code",
   "execution_count": 65,
   "metadata": {},
   "outputs": [],
   "source": [
    "#4. Exportar para ficheiro.\n",
    "\n",
    "nb_nodes=len(points) #Calcular número de pontos da malha.\n",
    "nb_elements=len(mesh) #Calcular o número de elementos da malha.\n",
    "\n",
    "file=open(\"mesh.dat\",\"w\")\n",
    "\n",
    "file.write(\"{}{} {}{}\".format(\"$MeshFormat\\n\",\"2.2\",\"0 8\",\"\\n$EndMeshFormat\\n\"))\n",
    "\n",
    "file.write(\"{}\\n\".format(\"\\n$Nodes\"))\n",
    "file.write(\"{}\\n\".format(nb_nodes))\n",
    "for i,node in enumerate(Nodes): #Enumerate permite enumerar cada node. \n",
    "    file.write(\"{} {}\\n\".format(i,node[0],node[1]))\n",
    "file.write(\"{}\\n\".format(\"$EndNodes\\n\"))\n",
    "\n",
    "file.write(\"{}\\n\".format(\"\\n$Elements\"))\n",
    "file.write(\"{}\\n\".format(nb_elements))\n",
    "for j,element in enumerate(mesh):\n",
    "    file.write(\"{} {} {}\\n\".format(j,element[0],element[1],element[2]))\n",
    "file.write(\"{}\\n\".format(\"$EndElements\\n\"))\n",
    "\n",
    "file.close()"
   ]
  },
  {
   "cell_type": "code",
   "execution_count": null,
   "metadata": {},
   "outputs": [],
   "source": []
  },
  {
   "cell_type": "code",
   "execution_count": null,
   "metadata": {},
   "outputs": [],
   "source": []
  }
 ],
 "metadata": {
  "kernelspec": {
   "display_name": "Python 3",
   "language": "python",
   "name": "python3"
  },
  "language_info": {
   "codemirror_mode": {
    "name": "ipython",
    "version": 3
   },
   "file_extension": ".py",
   "mimetype": "text/x-python",
   "name": "python",
   "nbconvert_exporter": "python",
   "pygments_lexer": "ipython3",
   "version": "3.8.5"
  }
 },
 "nbformat": 4,
 "nbformat_minor": 4
}
